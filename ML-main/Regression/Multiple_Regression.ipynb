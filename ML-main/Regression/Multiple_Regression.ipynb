{
  "nbformat": 4,
  "nbformat_minor": 0,
  "metadata": {
    "colab": {
      "provenance": [],
      "authorship_tag": "ABX9TyMbzXx9awacN/hnA2I1xvBg",
      "include_colab_link": true
    },
    "kernelspec": {
      "name": "python3",
      "display_name": "Python 3"
    },
    "language_info": {
      "name": "python"
    }
  },
  "cells": [
    {
      "cell_type": "markdown",
      "metadata": {
        "id": "view-in-github",
        "colab_type": "text"
      },
      "source": [
        "<a href=\"https://colab.research.google.com/github/NBSPRG/Google_Colab/blob/main/Multiple_Regression.ipynb\" target=\"_parent\"><img src=\"https://colab.research.google.com/assets/colab-badge.svg\" alt=\"Open In Colab\"/></a>"
      ]
    },
    {
      "cell_type": "code",
      "execution_count": 2,
      "metadata": {
        "id": "tOUObnt3_9CU"
      },
      "outputs": [],
      "source": [
        "import numpy as np\n",
        "class MultipleRegression:\n",
        "  def __init__(self):\n",
        "    self.coefficient_ = None\n",
        "    self.intercept_ = None\n",
        "\n",
        "  def fit(self, X_train, y_train):\n",
        "    X_train = np.insert(X_train, 0, 1, axis = 1)\n",
        "    \n",
        "    # mathematical code\n",
        "    betas = np.linalg.inv(np.dot(X_train.T, X_train)).dot(X_train.T).dot(y_train)\n",
        "    self.intercept_ = betas[0]\n",
        "    self.coefficient_ = betas[1:,]\n",
        "    print(self.intercept_)\n",
        "    print(self.coefficient_)\n",
        "\n",
        "  def predict(self, X_test):\n",
        "    y_pred = np.dot(X_test, self.coefficient_) + self.intercept_\n",
        "\n",
        "    return y_pred\n"
      ]
    },
    {
      "cell_type": "code",
      "source": [],
      "metadata": {
        "id": "8Bzh6qviAAcb"
      },
      "execution_count": null,
      "outputs": []
    }
  ]
}